{
  "nbformat": 4,
  "nbformat_minor": 0,
  "metadata": {
    "colab": {
      "name": "04 - Aprendizado Supervisionado [SVM].ipynb",
      "version": "0.3.2",
      "provenance": []
    },
    "language_info": {
      "codemirror_mode": {
        "name": "ipython",
        "version": 3
      },
      "file_extension": ".py",
      "mimetype": "text/x-python",
      "name": "python",
      "nbconvert_exporter": "python",
      "pygments_lexer": "ipython3",
      "version": "3.6.8"
    },
    "kernelspec": {
      "display_name": "Python 3",
      "language": "python",
      "name": "python3"
    }
  },
  "cells": [
    {
      "cell_type": "markdown",
      "metadata": {
        "id": "WccIkO2fuk2t",
        "colab_type": "text"
      },
      "source": [
        "# Agora vamos falar de aprendizado supervisionado, usando um algoritmo clássico: Support Vector Machine (SVM)."
      ]
    },
    {
      "cell_type": "code",
      "metadata": {
        "id": "i1qrFNUQuk3A",
        "colab_type": "code",
        "colab": {}
      },
      "source": [
        "#Importando bibliotecas básicas\n",
        "import numpy as np\n",
        "import pandas as pd\n",
        "import matplotlib.pyplot as plt"
      ],
      "execution_count": 0,
      "outputs": []
    },
    {
      "cell_type": "markdown",
      "metadata": {
        "id": "nYfiBzEauk3k",
        "colab_type": "text"
      },
      "source": [
        "<h3> Segue o link para visualizar os dados: \n",
        "    \n",
        "https://github.com/Natalnet/GCiD/raw/master/Codes/Data/INMET-Dados_Diarios_PortoAlegre_1980-2017.csv"
      ]
    },
    {
      "cell_type": "code",
      "metadata": {
        "id": "Ms4I7ARBuk3r",
        "colab_type": "code",
        "colab": {}
      },
      "source": [
        "#Lendo os dados\n",
        "dataSet = pd.read_csv(\"https://github.com/Natalnet/GCiD/raw/master/Codes/Data/INMET-Dados_Diarios_PortoAlegre_1980-2017.csv\",\n",
        "                      skiprows = 16, sep=';')\n",
        "#Transformando data em variável do tipo datetime\n",
        "dataSet[\"Data\"] = pd.to_datetime(dataSet[\"Data\"], format = \"%d/%m/%Y\")"
      ],
      "execution_count": 0,
      "outputs": []
    },
    {
      "cell_type": "code",
      "metadata": {
        "id": "pSmC-rNjuk4E",
        "colab_type": "code",
        "colab": {
          "base_uri": "https://localhost:8080/",
          "height": 241
        },
        "outputId": "ad9d10d4-4f63-419d-a30a-947f9e04c5a8"
      },
      "source": [
        "#Visualizando cabeçalho dos dados\n",
        "dataSet.head()"
      ],
      "execution_count": 3,
      "outputs": [
        {
          "output_type": "execute_result",
          "data": {
            "text/html": [
              "<div>\n",
              "<style scoped>\n",
              "    .dataframe tbody tr th:only-of-type {\n",
              "        vertical-align: middle;\n",
              "    }\n",
              "\n",
              "    .dataframe tbody tr th {\n",
              "        vertical-align: top;\n",
              "    }\n",
              "\n",
              "    .dataframe thead th {\n",
              "        text-align: right;\n",
              "    }\n",
              "</style>\n",
              "<table border=\"1\" class=\"dataframe\">\n",
              "  <thead>\n",
              "    <tr style=\"text-align: right;\">\n",
              "      <th></th>\n",
              "      <th>Estacao</th>\n",
              "      <th>Data</th>\n",
              "      <th>Hora</th>\n",
              "      <th>Precipitacao</th>\n",
              "      <th>TempMaxima</th>\n",
              "      <th>TempMinima</th>\n",
              "      <th>Insolacao</th>\n",
              "      <th>Evaporacao Piche</th>\n",
              "      <th>Temp Comp Media</th>\n",
              "      <th>Umidade Relativa Media</th>\n",
              "      <th>Velocidade do Vento Media</th>\n",
              "      <th>Unnamed: 11</th>\n",
              "    </tr>\n",
              "  </thead>\n",
              "  <tbody>\n",
              "    <tr>\n",
              "      <th>0</th>\n",
              "      <td>83967</td>\n",
              "      <td>1980-01-01</td>\n",
              "      <td>0</td>\n",
              "      <td>NaN</td>\n",
              "      <td>23.0</td>\n",
              "      <td>NaN</td>\n",
              "      <td>9.8</td>\n",
              "      <td>5.5</td>\n",
              "      <td>18.34</td>\n",
              "      <td>65.0</td>\n",
              "      <td>3.800000</td>\n",
              "      <td>NaN</td>\n",
              "    </tr>\n",
              "    <tr>\n",
              "      <th>1</th>\n",
              "      <td>83967</td>\n",
              "      <td>1980-01-01</td>\n",
              "      <td>1200</td>\n",
              "      <td>0.0</td>\n",
              "      <td>NaN</td>\n",
              "      <td>14.8</td>\n",
              "      <td>NaN</td>\n",
              "      <td>NaN</td>\n",
              "      <td>NaN</td>\n",
              "      <td>NaN</td>\n",
              "      <td>NaN</td>\n",
              "      <td>NaN</td>\n",
              "    </tr>\n",
              "    <tr>\n",
              "      <th>2</th>\n",
              "      <td>83967</td>\n",
              "      <td>1980-01-02</td>\n",
              "      <td>0</td>\n",
              "      <td>NaN</td>\n",
              "      <td>24.1</td>\n",
              "      <td>NaN</td>\n",
              "      <td>10.8</td>\n",
              "      <td>4.8</td>\n",
              "      <td>18.90</td>\n",
              "      <td>69.5</td>\n",
              "      <td>2.200000</td>\n",
              "      <td>NaN</td>\n",
              "    </tr>\n",
              "    <tr>\n",
              "      <th>3</th>\n",
              "      <td>83967</td>\n",
              "      <td>1980-01-02</td>\n",
              "      <td>1200</td>\n",
              "      <td>0.0</td>\n",
              "      <td>NaN</td>\n",
              "      <td>13.8</td>\n",
              "      <td>NaN</td>\n",
              "      <td>NaN</td>\n",
              "      <td>NaN</td>\n",
              "      <td>NaN</td>\n",
              "      <td>NaN</td>\n",
              "      <td>NaN</td>\n",
              "    </tr>\n",
              "    <tr>\n",
              "      <th>4</th>\n",
              "      <td>83967</td>\n",
              "      <td>1980-01-03</td>\n",
              "      <td>0</td>\n",
              "      <td>NaN</td>\n",
              "      <td>28.4</td>\n",
              "      <td>NaN</td>\n",
              "      <td>11.7</td>\n",
              "      <td>5.0</td>\n",
              "      <td>21.24</td>\n",
              "      <td>59.0</td>\n",
              "      <td>2.166667</td>\n",
              "      <td>NaN</td>\n",
              "    </tr>\n",
              "  </tbody>\n",
              "</table>\n",
              "</div>"
            ],
            "text/plain": [
              "   Estacao       Data  ...  Velocidade do Vento Media  Unnamed: 11\n",
              "0    83967 1980-01-01  ...                   3.800000          NaN\n",
              "1    83967 1980-01-01  ...                        NaN          NaN\n",
              "2    83967 1980-01-02  ...                   2.200000          NaN\n",
              "3    83967 1980-01-02  ...                        NaN          NaN\n",
              "4    83967 1980-01-03  ...                   2.166667          NaN\n",
              "\n",
              "[5 rows x 12 columns]"
            ]
          },
          "metadata": {
            "tags": []
          },
          "execution_count": 3
        }
      ]
    },
    {
      "cell_type": "code",
      "metadata": {
        "id": "hMXg7jdZuk4p",
        "colab_type": "code",
        "colab": {
          "base_uri": "https://localhost:8080/",
          "height": 355
        },
        "outputId": "7bfe70b7-71ad-4531-cb16-83c53b7d3d52"
      },
      "source": [
        "#Visualizando descrição resumida dos dados\n",
        "dataSet.describe()"
      ],
      "execution_count": 4,
      "outputs": [
        {
          "output_type": "execute_result",
          "data": {
            "text/html": [
              "<div>\n",
              "<style scoped>\n",
              "    .dataframe tbody tr th:only-of-type {\n",
              "        vertical-align: middle;\n",
              "    }\n",
              "\n",
              "    .dataframe tbody tr th {\n",
              "        vertical-align: top;\n",
              "    }\n",
              "\n",
              "    .dataframe thead th {\n",
              "        text-align: right;\n",
              "    }\n",
              "</style>\n",
              "<table border=\"1\" class=\"dataframe\">\n",
              "  <thead>\n",
              "    <tr style=\"text-align: right;\">\n",
              "      <th></th>\n",
              "      <th>Estacao</th>\n",
              "      <th>Hora</th>\n",
              "      <th>Precipitacao</th>\n",
              "      <th>TempMaxima</th>\n",
              "      <th>TempMinima</th>\n",
              "      <th>Insolacao</th>\n",
              "      <th>Evaporacao Piche</th>\n",
              "      <th>Temp Comp Media</th>\n",
              "      <th>Umidade Relativa Media</th>\n",
              "      <th>Velocidade do Vento Media</th>\n",
              "      <th>Unnamed: 11</th>\n",
              "    </tr>\n",
              "  </thead>\n",
              "  <tbody>\n",
              "    <tr>\n",
              "      <th>count</th>\n",
              "      <td>24542.0</td>\n",
              "      <td>24542.000000</td>\n",
              "      <td>12266.000000</td>\n",
              "      <td>12242.000000</td>\n",
              "      <td>12243.000000</td>\n",
              "      <td>12131.000000</td>\n",
              "      <td>11600.000000</td>\n",
              "      <td>12227.000000</td>\n",
              "      <td>12223.000000</td>\n",
              "      <td>12269.000000</td>\n",
              "      <td>0.0</td>\n",
              "    </tr>\n",
              "    <tr>\n",
              "      <th>mean</th>\n",
              "      <td>83967.0</td>\n",
              "      <td>600.000000</td>\n",
              "      <td>3.959351</td>\n",
              "      <td>25.398268</td>\n",
              "      <td>15.728727</td>\n",
              "      <td>5.888220</td>\n",
              "      <td>2.432095</td>\n",
              "      <td>19.738193</td>\n",
              "      <td>76.451771</td>\n",
              "      <td>2.071611</td>\n",
              "      <td>NaN</td>\n",
              "    </tr>\n",
              "    <tr>\n",
              "      <th>std</th>\n",
              "      <td>0.0</td>\n",
              "      <td>600.012224</td>\n",
              "      <td>10.226288</td>\n",
              "      <td>5.637669</td>\n",
              "      <td>4.861767</td>\n",
              "      <td>3.946654</td>\n",
              "      <td>1.541723</td>\n",
              "      <td>4.861474</td>\n",
              "      <td>10.047764</td>\n",
              "      <td>1.293506</td>\n",
              "      <td>NaN</td>\n",
              "    </tr>\n",
              "    <tr>\n",
              "      <th>min</th>\n",
              "      <td>83967.0</td>\n",
              "      <td>0.000000</td>\n",
              "      <td>0.000000</td>\n",
              "      <td>8.600000</td>\n",
              "      <td>-0.200000</td>\n",
              "      <td>0.000000</td>\n",
              "      <td>0.000000</td>\n",
              "      <td>5.160000</td>\n",
              "      <td>37.500000</td>\n",
              "      <td>0.000000</td>\n",
              "      <td>NaN</td>\n",
              "    </tr>\n",
              "    <tr>\n",
              "      <th>25%</th>\n",
              "      <td>83967.0</td>\n",
              "      <td>0.000000</td>\n",
              "      <td>0.000000</td>\n",
              "      <td>21.300000</td>\n",
              "      <td>12.500000</td>\n",
              "      <td>2.100000</td>\n",
              "      <td>1.300000</td>\n",
              "      <td>16.280000</td>\n",
              "      <td>69.500000</td>\n",
              "      <td>1.200000</td>\n",
              "      <td>NaN</td>\n",
              "    </tr>\n",
              "    <tr>\n",
              "      <th>50%</th>\n",
              "      <td>83967.0</td>\n",
              "      <td>600.000000</td>\n",
              "      <td>0.000000</td>\n",
              "      <td>25.800000</td>\n",
              "      <td>16.300000</td>\n",
              "      <td>6.700000</td>\n",
              "      <td>2.200000</td>\n",
              "      <td>20.220000</td>\n",
              "      <td>76.500000</td>\n",
              "      <td>1.866667</td>\n",
              "      <td>NaN</td>\n",
              "    </tr>\n",
              "    <tr>\n",
              "      <th>75%</th>\n",
              "      <td>83967.0</td>\n",
              "      <td>1200.000000</td>\n",
              "      <td>1.800000</td>\n",
              "      <td>29.600000</td>\n",
              "      <td>19.600000</td>\n",
              "      <td>9.100000</td>\n",
              "      <td>3.200000</td>\n",
              "      <td>23.560000</td>\n",
              "      <td>83.750000</td>\n",
              "      <td>2.700000</td>\n",
              "      <td>NaN</td>\n",
              "    </tr>\n",
              "    <tr>\n",
              "      <th>max</th>\n",
              "      <td>83967.0</td>\n",
              "      <td>1200.000000</td>\n",
              "      <td>149.600000</td>\n",
              "      <td>40.600000</td>\n",
              "      <td>27.900000</td>\n",
              "      <td>13.200000</td>\n",
              "      <td>20.700000</td>\n",
              "      <td>33.700000</td>\n",
              "      <td>99.250000</td>\n",
              "      <td>14.500000</td>\n",
              "      <td>NaN</td>\n",
              "    </tr>\n",
              "  </tbody>\n",
              "</table>\n",
              "</div>"
            ],
            "text/plain": [
              "       Estacao          Hora  ...  Velocidade do Vento Media  Unnamed: 11\n",
              "count  24542.0  24542.000000  ...               12269.000000          0.0\n",
              "mean   83967.0    600.000000  ...                   2.071611          NaN\n",
              "std        0.0    600.012224  ...                   1.293506          NaN\n",
              "min    83967.0      0.000000  ...                   0.000000          NaN\n",
              "25%    83967.0      0.000000  ...                   1.200000          NaN\n",
              "50%    83967.0    600.000000  ...                   1.866667          NaN\n",
              "75%    83967.0   1200.000000  ...                   2.700000          NaN\n",
              "max    83967.0   1200.000000  ...                  14.500000          NaN\n",
              "\n",
              "[8 rows x 11 columns]"
            ]
          },
          "metadata": {
            "tags": []
          },
          "execution_count": 4
        }
      ]
    },
    {
      "cell_type": "markdown",
      "metadata": {
        "id": "bwahNI8Muk5D",
        "colab_type": "text"
      },
      "source": [
        "# Esse problema encontrado agora na base de dados já foi enfrentado anteriormente, portanto, vamos agilizar o processo com a função \"OrganizarDados\""
      ]
    },
    {
      "cell_type": "code",
      "metadata": {
        "id": "ip8H3fRXuk5I",
        "colab_type": "code",
        "colab": {}
      },
      "source": [
        "def OrganizarDados(dataSet):\n",
        "    #Transformando data em variável do tipo datetime\n",
        "    dataSet[\"Data\"] = pd.to_datetime(dataSet[\"Data\"], format = \"%d/%m/%Y\")\n",
        "    #Atribuindo \"Data\" como índice para a base de dados\n",
        "    dataSet = dataSet.set_index(\"Data\")\n",
        "    #Separando os dados em dois dataframes, um para as 00:00 h e outro para as 12:00 h\n",
        "    dataSet00, dataSet12 = dataSet[dataSet[\"Hora\"] == 0], dataSet[dataSet[\"Hora\"] == 1200]\n",
        "    #Descartando as colunas \"Hora\", \"Estacao\" e \"Unnamed: 11\" \n",
        "    dataSet00, dataSet12 = dataSet00.drop(columns = [\"Hora\", \"Estacao\", \"Unnamed: 11\"]), dataSet12.drop(columns = [\"Hora\", \"Estacao\", \"Unnamed: 11\"])\n",
        "    #Eliminando colunas completas por \"NaN\" em cada uma das bases de dados\n",
        "    dataSet00 = dataSet00.drop(columns = [\"Precipitacao\",\"TempMinima\"])\n",
        "    dataSet12 = dataSet12.drop(columns = [\"TempMaxima\",\"Insolacao\",\"Evaporacao Piche\",\"Temp Comp Media\",\"Umidade Relativa Media\",\"Velocidade do Vento Media\"])\n",
        "    #Criando o intervalo completo de tempo de 01-01-1980 à 31-12-2017\n",
        "    dataInicial = '2014-01-01'\n",
        "    dataFinal = '2017-12-31'\n",
        "    tempo = pd.date_range(dataInicial, dataFinal)\n",
        "    #Atribuindo este intervalo de tempo à um dataSet provisório\n",
        "    dataSetProv = pd.DataFrame()\n",
        "    dataSetProv[\"Data\"] = tempo\n",
        "    #Atribuindo o índice para o dataSet provisório como sendo a coluna de datas\n",
        "    dataSetProv = dataSetProv.set_index(\"Data\")\n",
        "    #Mesclando o dataSet provisório como sendo o resultado da junção dos dataSet00 e dataSet12\n",
        "    dataSetProv = dataSetProv.join(dataSet00).join(dataSet12)\n",
        "    #Tornando o dataSet como sendo o dataSet provisório\n",
        "    dataSet = dataSetProv  \n",
        "    return dataSet"
      ],
      "execution_count": 0,
      "outputs": []
    },
    {
      "cell_type": "code",
      "metadata": {
        "id": "NB5vgNS7uk5a",
        "colab_type": "code",
        "colab": {}
      },
      "source": [
        "#Aplicando a função ao dataSet\n",
        "dataSet = OrganizarDados(dataSet)"
      ],
      "execution_count": 0,
      "outputs": []
    },
    {
      "cell_type": "code",
      "metadata": {
        "id": "Jqjy6KO2uk5u",
        "colab_type": "code",
        "colab": {}
      },
      "source": [
        "#Tornando a informação de mês uma variável do dataSet\n",
        "dataSet[\"Mes\"] = dataSet.index.month"
      ],
      "execution_count": 0,
      "outputs": []
    },
    {
      "cell_type": "code",
      "metadata": {
        "id": "Jrp0Z-rauk6E",
        "colab_type": "code",
        "colab": {}
      },
      "source": [
        "#Eliminando eventos inconsistentes da base de dados\n",
        "dataSet = dataSet.dropna()"
      ],
      "execution_count": 0,
      "outputs": []
    },
    {
      "cell_type": "code",
      "metadata": {
        "id": "qx23YIESuk6d",
        "colab_type": "code",
        "colab": {}
      },
      "source": [
        "#Resentando o índice do dataSet\n",
        "dataSet = dataSet.reset_index(drop = True)"
      ],
      "execution_count": 0,
      "outputs": []
    },
    {
      "cell_type": "code",
      "metadata": {
        "id": "T4Z1ymrVuk6y",
        "colab_type": "code",
        "colab": {
          "base_uri": "https://localhost:8080/",
          "height": 206
        },
        "outputId": "c01a292d-9a99-4b48-cf2b-a9df3e01a240"
      },
      "source": [
        "#Visualizando cabeçalho dos dados\n",
        "dataSet.head()"
      ],
      "execution_count": 10,
      "outputs": [
        {
          "output_type": "execute_result",
          "data": {
            "text/html": [
              "<div>\n",
              "<style scoped>\n",
              "    .dataframe tbody tr th:only-of-type {\n",
              "        vertical-align: middle;\n",
              "    }\n",
              "\n",
              "    .dataframe tbody tr th {\n",
              "        vertical-align: top;\n",
              "    }\n",
              "\n",
              "    .dataframe thead th {\n",
              "        text-align: right;\n",
              "    }\n",
              "</style>\n",
              "<table border=\"1\" class=\"dataframe\">\n",
              "  <thead>\n",
              "    <tr style=\"text-align: right;\">\n",
              "      <th></th>\n",
              "      <th>TempMaxima</th>\n",
              "      <th>Insolacao</th>\n",
              "      <th>Evaporacao Piche</th>\n",
              "      <th>Temp Comp Media</th>\n",
              "      <th>Umidade Relativa Media</th>\n",
              "      <th>Velocidade do Vento Media</th>\n",
              "      <th>Precipitacao</th>\n",
              "      <th>TempMinima</th>\n",
              "      <th>Mes</th>\n",
              "    </tr>\n",
              "  </thead>\n",
              "  <tbody>\n",
              "    <tr>\n",
              "      <th>0</th>\n",
              "      <td>34.0</td>\n",
              "      <td>5.8</td>\n",
              "      <td>3.2</td>\n",
              "      <td>27.86</td>\n",
              "      <td>75.50</td>\n",
              "      <td>1.800000</td>\n",
              "      <td>3.6</td>\n",
              "      <td>23.7</td>\n",
              "      <td>1</td>\n",
              "    </tr>\n",
              "    <tr>\n",
              "      <th>1</th>\n",
              "      <td>34.4</td>\n",
              "      <td>5.1</td>\n",
              "      <td>3.7</td>\n",
              "      <td>27.84</td>\n",
              "      <td>74.75</td>\n",
              "      <td>3.400000</td>\n",
              "      <td>0.1</td>\n",
              "      <td>24.8</td>\n",
              "      <td>1</td>\n",
              "    </tr>\n",
              "    <tr>\n",
              "      <th>2</th>\n",
              "      <td>25.3</td>\n",
              "      <td>0.0</td>\n",
              "      <td>2.1</td>\n",
              "      <td>21.56</td>\n",
              "      <td>88.00</td>\n",
              "      <td>0.900000</td>\n",
              "      <td>4.0</td>\n",
              "      <td>19.9</td>\n",
              "      <td>1</td>\n",
              "    </tr>\n",
              "    <tr>\n",
              "      <th>3</th>\n",
              "      <td>28.2</td>\n",
              "      <td>12.3</td>\n",
              "      <td>1.2</td>\n",
              "      <td>22.62</td>\n",
              "      <td>62.75</td>\n",
              "      <td>2.366667</td>\n",
              "      <td>9.2</td>\n",
              "      <td>17.5</td>\n",
              "      <td>1</td>\n",
              "    </tr>\n",
              "    <tr>\n",
              "      <th>4</th>\n",
              "      <td>31.6</td>\n",
              "      <td>12.7</td>\n",
              "      <td>3.3</td>\n",
              "      <td>25.02</td>\n",
              "      <td>62.50</td>\n",
              "      <td>2.866667</td>\n",
              "      <td>0.0</td>\n",
              "      <td>17.8</td>\n",
              "      <td>1</td>\n",
              "    </tr>\n",
              "  </tbody>\n",
              "</table>\n",
              "</div>"
            ],
            "text/plain": [
              "   TempMaxima  Insolacao  Evaporacao Piche  ...  Precipitacao  TempMinima  Mes\n",
              "0        34.0        5.8               3.2  ...           3.6        23.7    1\n",
              "1        34.4        5.1               3.7  ...           0.1        24.8    1\n",
              "2        25.3        0.0               2.1  ...           4.0        19.9    1\n",
              "3        28.2       12.3               1.2  ...           9.2        17.5    1\n",
              "4        31.6       12.7               3.3  ...           0.0        17.8    1\n",
              "\n",
              "[5 rows x 9 columns]"
            ]
          },
          "metadata": {
            "tags": []
          },
          "execution_count": 10
        }
      ]
    },
    {
      "cell_type": "code",
      "metadata": {
        "id": "g_2sa2eGuk7C",
        "colab_type": "code",
        "colab": {
          "base_uri": "https://localhost:8080/",
          "height": 318
        },
        "outputId": "051ef314-0483-40a9-bb66-1100d95beb5e"
      },
      "source": [
        "#Visualizando descrição resumida dos dados\n",
        "dataSet.describe()"
      ],
      "execution_count": 11,
      "outputs": [
        {
          "output_type": "execute_result",
          "data": {
            "text/html": [
              "<div>\n",
              "<style scoped>\n",
              "    .dataframe tbody tr th:only-of-type {\n",
              "        vertical-align: middle;\n",
              "    }\n",
              "\n",
              "    .dataframe tbody tr th {\n",
              "        vertical-align: top;\n",
              "    }\n",
              "\n",
              "    .dataframe thead th {\n",
              "        text-align: right;\n",
              "    }\n",
              "</style>\n",
              "<table border=\"1\" class=\"dataframe\">\n",
              "  <thead>\n",
              "    <tr style=\"text-align: right;\">\n",
              "      <th></th>\n",
              "      <th>TempMaxima</th>\n",
              "      <th>Insolacao</th>\n",
              "      <th>Evaporacao Piche</th>\n",
              "      <th>Temp Comp Media</th>\n",
              "      <th>Umidade Relativa Media</th>\n",
              "      <th>Velocidade do Vento Media</th>\n",
              "      <th>Precipitacao</th>\n",
              "      <th>TempMinima</th>\n",
              "      <th>Mes</th>\n",
              "    </tr>\n",
              "  </thead>\n",
              "  <tbody>\n",
              "    <tr>\n",
              "      <th>count</th>\n",
              "      <td>1459.000000</td>\n",
              "      <td>1459.000000</td>\n",
              "      <td>1459.000000</td>\n",
              "      <td>1459.000000</td>\n",
              "      <td>1459.000000</td>\n",
              "      <td>1459.000000</td>\n",
              "      <td>1459.000000</td>\n",
              "      <td>1459.000000</td>\n",
              "      <td>1459.000000</td>\n",
              "    </tr>\n",
              "    <tr>\n",
              "      <th>mean</th>\n",
              "      <td>25.940987</td>\n",
              "      <td>5.862988</td>\n",
              "      <td>2.136532</td>\n",
              "      <td>20.358944</td>\n",
              "      <td>77.657128</td>\n",
              "      <td>2.073056</td>\n",
              "      <td>4.753667</td>\n",
              "      <td>16.456408</td>\n",
              "      <td>6.516792</td>\n",
              "    </tr>\n",
              "    <tr>\n",
              "      <th>std</th>\n",
              "      <td>5.472325</td>\n",
              "      <td>3.936361</td>\n",
              "      <td>1.263007</td>\n",
              "      <td>4.731126</td>\n",
              "      <td>9.777534</td>\n",
              "      <td>0.857441</td>\n",
              "      <td>11.895097</td>\n",
              "      <td>4.662250</td>\n",
              "      <td>3.448060</td>\n",
              "    </tr>\n",
              "    <tr>\n",
              "      <th>min</th>\n",
              "      <td>8.600000</td>\n",
              "      <td>0.000000</td>\n",
              "      <td>0.000000</td>\n",
              "      <td>6.960000</td>\n",
              "      <td>45.250000</td>\n",
              "      <td>0.000000</td>\n",
              "      <td>0.000000</td>\n",
              "      <td>2.200000</td>\n",
              "      <td>1.000000</td>\n",
              "    </tr>\n",
              "    <tr>\n",
              "      <th>25%</th>\n",
              "      <td>22.000000</td>\n",
              "      <td>2.200000</td>\n",
              "      <td>1.200000</td>\n",
              "      <td>17.030000</td>\n",
              "      <td>70.750000</td>\n",
              "      <td>1.500000</td>\n",
              "      <td>0.000000</td>\n",
              "      <td>13.500000</td>\n",
              "      <td>4.000000</td>\n",
              "    </tr>\n",
              "    <tr>\n",
              "      <th>50%</th>\n",
              "      <td>26.100000</td>\n",
              "      <td>6.500000</td>\n",
              "      <td>2.000000</td>\n",
              "      <td>20.680000</td>\n",
              "      <td>78.000000</td>\n",
              "      <td>1.966667</td>\n",
              "      <td>0.000000</td>\n",
              "      <td>16.900000</td>\n",
              "      <td>7.000000</td>\n",
              "    </tr>\n",
              "    <tr>\n",
              "      <th>75%</th>\n",
              "      <td>29.800000</td>\n",
              "      <td>9.000000</td>\n",
              "      <td>2.900000</td>\n",
              "      <td>23.920000</td>\n",
              "      <td>84.750000</td>\n",
              "      <td>2.533333</td>\n",
              "      <td>2.500000</td>\n",
              "      <td>20.100000</td>\n",
              "      <td>10.000000</td>\n",
              "    </tr>\n",
              "    <tr>\n",
              "      <th>max</th>\n",
              "      <td>40.600000</td>\n",
              "      <td>12.700000</td>\n",
              "      <td>7.800000</td>\n",
              "      <td>33.320000</td>\n",
              "      <td>97.500000</td>\n",
              "      <td>5.866667</td>\n",
              "      <td>95.500000</td>\n",
              "      <td>27.100000</td>\n",
              "      <td>12.000000</td>\n",
              "    </tr>\n",
              "  </tbody>\n",
              "</table>\n",
              "</div>"
            ],
            "text/plain": [
              "        TempMaxima    Insolacao  ...   TempMinima          Mes\n",
              "count  1459.000000  1459.000000  ...  1459.000000  1459.000000\n",
              "mean     25.940987     5.862988  ...    16.456408     6.516792\n",
              "std       5.472325     3.936361  ...     4.662250     3.448060\n",
              "min       8.600000     0.000000  ...     2.200000     1.000000\n",
              "25%      22.000000     2.200000  ...    13.500000     4.000000\n",
              "50%      26.100000     6.500000  ...    16.900000     7.000000\n",
              "75%      29.800000     9.000000  ...    20.100000    10.000000\n",
              "max      40.600000    12.700000  ...    27.100000    12.000000\n",
              "\n",
              "[8 rows x 9 columns]"
            ]
          },
          "metadata": {
            "tags": []
          },
          "execution_count": 11
        }
      ]
    },
    {
      "cell_type": "code",
      "metadata": {
        "id": "2cbaXyJMuk7k",
        "colab_type": "code",
        "colab": {}
      },
      "source": [
        "#Separando a coluna \"Mes\" do DataFrame\n",
        "mes = dataSet[\"Mes\"].values\n",
        "dataSet = dataSet.drop(columns = \"Mes\")"
      ],
      "execution_count": 0,
      "outputs": []
    },
    {
      "cell_type": "code",
      "metadata": {
        "id": "0wbsV-8tuk7y",
        "colab_type": "code",
        "colab": {}
      },
      "source": [
        "from sklearn.model_selection import train_test_split\n",
        "#Separando os conjuntos de treino e teste com os dados embaralhados, sendo 90% para treino e 10% para teste\n",
        "X_train, X_test, y_train, y_test = train_test_split(dataSet, mes, test_size = 0.1, random_state = 3)"
      ],
      "execution_count": 0,
      "outputs": []
    },
    {
      "cell_type": "code",
      "metadata": {
        "id": "W_ckWeuWuk8A",
        "colab_type": "code",
        "colab": {}
      },
      "source": [
        "from sklearn.preprocessing import StandardScaler\n",
        "#Efetuando uma transformação no conjunto de dados - também já estudamos isso\n",
        "sc = StandardScaler()\n",
        "X_train = sc.fit_transform(X_train)\n",
        "X_test = sc.transform(X_test)"
      ],
      "execution_count": 0,
      "outputs": []
    },
    {
      "cell_type": "markdown",
      "metadata": {
        "id": "vk_iOJfquk8M",
        "colab_type": "text"
      },
      "source": [
        "<h3> Vamos agora utilizar o algoritmo SVM para Classificação, disponibilizado na biblioteca Scikit-Learn. Segue link para a documentação:\n",
        "\n",
        "https://scikit-learn.org/stable/modules/generated/sklearn.svm.LinearSVC.html#sklearn.svm.LinearSVC"
      ]
    },
    {
      "cell_type": "code",
      "metadata": {
        "id": "RXPhwt0-uk8P",
        "colab_type": "code",
        "colab": {}
      },
      "source": [
        "from sklearn.svm import SVC\n",
        "#Criação do objeto SVC como \"classifier\"\n",
        "classifier = SVC(C = 10000000.0, kernel = 'rbf', random_state = 0, gamma = 0.0001)"
      ],
      "execution_count": 0,
      "outputs": []
    },
    {
      "cell_type": "code",
      "metadata": {
        "id": "C8pOmgz7uk8b",
        "colab_type": "code",
        "colab": {
          "base_uri": "https://localhost:8080/",
          "height": 86
        },
        "outputId": "be62133b-4ebd-4b92-c74e-60df0e808c3d"
      },
      "source": [
        "#Treinando o modelo classificador\n",
        "classifier.fit(X_train, y_train)"
      ],
      "execution_count": 16,
      "outputs": [
        {
          "output_type": "execute_result",
          "data": {
            "text/plain": [
              "SVC(C=10000000.0, cache_size=200, class_weight=None, coef0=0.0,\n",
              "    decision_function_shape='ovr', degree=3, gamma=0.0001, kernel='rbf',\n",
              "    max_iter=-1, probability=False, random_state=0, shrinking=True, tol=0.001,\n",
              "    verbose=False)"
            ]
          },
          "metadata": {
            "tags": []
          },
          "execution_count": 16
        }
      ]
    },
    {
      "cell_type": "code",
      "metadata": {
        "id": "RgYtxeJQw7uY",
        "colab_type": "code",
        "colab": {}
      },
      "source": [
        "#Previsão para os valores de teste\n",
        "y_pred = classifier.predict(X_test)"
      ],
      "execution_count": 0,
      "outputs": []
    },
    {
      "cell_type": "code",
      "metadata": {
        "id": "w7_yIx0Zuk8v",
        "colab_type": "code",
        "colab": {}
      },
      "source": [
        "from sklearn.metrics import confusion_matrix\n",
        "#Avaliando o modelo com matriz de confusão\n",
        "cm = confusion_matrix(y_test, y_pred)\n",
        "cm = pd.DataFrame(cm)\n",
        "cm.columns = [\"Jan\",\"Fev\",\"Mar\",\"Abr\",\"Mai\",\"Jun\",\"Jul\",\"Ago\",\"Set\",\"Out\",\"Nov\",\"Dez\"]\n",
        "cm.index = [\"Jan\",\"Fev\",\"Mar\",\"Abr\",\"Mai\",\"Jun\",\"Jul\",\"Ago\",\"Set\",\"Out\",\"Nov\",\"Dez\"]"
      ],
      "execution_count": 0,
      "outputs": []
    }
  ]
}